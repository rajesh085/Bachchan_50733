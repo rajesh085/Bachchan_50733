{
 "cells": [
  {
   "cell_type": "markdown",
   "id": "6c693a0b-8009-4b4c-bec5-03a694642160",
   "metadata": {},
   "source": [
    "## Homework 2\n",
    "### Due: Thursday Feb. 13\n",
    "\n",
    "**Integer vs floating point number**\n",
    "\n",
    "Write a program to calculate and print the factorial of a\n",
    "number.  If you wish you can base your program on the\n",
    "user-defined function for factorial given in Section 2.6, but write your\n",
    "program so that it calculates the factorial using *integer*\n",
    "variables, not floating-point ones.  Use your program to calculate the\n",
    "factorial of 200.\n",
    "\n",
    "Now modify your program to use floating-point variables instead and again\n",
    "calculate the factorial of 200.  What do you find?  Explain.\n",
    "\n",
    "(20 points)"
   ]
  },
  {
   "cell_type": "code",
   "execution_count": 32,
   "id": "de7fed8f-325f-4eab-ab18-1e59d1d6b428",
   "metadata": {},
   "outputs": [
    {
     "name": "stdout",
     "output_type": "stream",
     "text": [
      "factorial 10 =  3628800\n",
      "factorial 200 =  788657867364790503552363213932185062295135977687173263294742533244359449963403342920304284011984623904177212138919638830257642790242637105061926624952829931113462857270763317237396988943922445621451664240254033291864131227428294853277524242407573903240321257405579568660226031904170324062351700858796178922222789623703897374720000000000000000000000000000000000000000000000000\n"
     ]
    }
   ],
   "source": [
    "# code\n",
    "def factorial(n):\n",
    "    nf = 1\n",
    "    for i in range(1, n + 1):\n",
    "        nf = nf * i\n",
    "    return nf\n",
    "\n",
    "# test 1\n",
    "print('factorial 10 = ', factorial(10))\n",
    "\n",
    "# test 2\n",
    "print('factorial 200 = ', factorial(200))"
   ]
  },
  {
   "cell_type": "code",
   "execution_count": 37,
   "id": "767d75bf-23e3-4c0a-b5c5-6a7455b64c5e",
   "metadata": {},
   "outputs": [
    {
     "name": "stdout",
     "output_type": "stream",
     "text": [
      "3628800.0\n",
      "7.257415615307994e+306\n",
      "inf\n"
     ]
    }
   ],
   "source": [
    "def factorial2(n):\n",
    "    if n == 0:\n",
    "        return 1.0\n",
    "    else:\n",
    "        return float(n) * factorial2(n - 1)\n",
    "\n",
    "# test 1\n",
    "print(factorial2(10.0))\n",
    "\n",
    "# test 2\n",
    "print(factorial2(170.0))\n",
    "\n",
    "# test 3\n",
    "print(factorial2(200.0))\n",
    "\n",
    "# For 200.0!, the resulting number exceeds the maximum value that can be represented by a floating-point number, \n",
    "# This results in an overflow and is represented by inf"
   ]
  },
  {
   "cell_type": "markdown",
   "id": "1e9a5155-daa8-4809-8e6a-e5d4ab7c270d",
   "metadata": {},
   "source": [
    "**A Simple Derivative**\n",
    "\n",
    "Suppose we have a function $f(x)$ and we want to\n",
    "calculate its derivative at a point $x$.  We can do that with pencil and\n",
    "paper if we know the mathematical form of the function, or we can do it on\n",
    "the computer by making use of the definition of the derivative:\n",
    "\n",
    "<p style=\"text-align:center;\">\n",
    "${d f\\over d x} = \\lim_{\\delta\\to0} {f(x+\\delta)-f(x)\\over\\delta}.$\n",
    "</p>\n",
    "\n",
    "On the computer we can't actually take the limit as $\\delta$ goes to\n",
    "zero, but we can get a reasonable approximation just by making $\\delta$\n",
    "small.\n",
    "- Write a program that defines a function *f(x)* returning the\n",
    "  value $x(x-1)$, then calculates the derivative of the function at the\n",
    "  point $x=1$ using the formula above with $\\delta=10^{-2}$.  Calculate\n",
    "  the true value of the same derivative analytically and compare with the\n",
    "  answer your program gives.  The two will not agree perfectly.  Why not?\n",
    "- Repeat the calculation for $\\delta=10^{-4}$, $10^{-6}$, $10^{-8}$,\n",
    "  $10^{-10}$, $10^{-12}$, and $10^{-14}$.  You should see that the accuracy\n",
    "  of the calculation initially gets better as $\\delta$ gets smaller, but\n",
    "  then gets worse again.  Why is this?\n",
    "\n",
    "(20 points)"
   ]
  },
  {
   "cell_type": "code",
   "execution_count": 2,
   "id": "84528686-9eb8-4446-81db-1a6dc4a26a30",
   "metadata": {},
   "outputs": [
    {
     "name": "stdout",
     "output_type": "stream",
     "text": [
      "Numerical derivative:  1.010000000000001\n",
      "Analytical result:     1\n",
      " \n",
      "The above two results are not equal because in the definition of numerical derivative,\n",
      "delta should tends to zero, whereas we are taking delta = 0.01\n",
      " \n",
      "1.0000999999998899\n",
      "1.0000000039225287\n",
      "1.0000889005833413\n",
      "0.9992007221626509\n",
      " \n",
      "The result degrades because when h is very small, f(x + h) - f(x) becomes very tiny,\n",
      "and its representation is limited due to finite precision of numbers used by computers.\n"
     ]
    }
   ],
   "source": [
    "# code\n",
    "x     = 1 \n",
    "delta = 0.01\n",
    "\n",
    "def f(x):\n",
    "    return x*(x - 1)\n",
    "    \n",
    "df = (f(x + delta) - f(x))/delta\n",
    "\n",
    "print('Numerical derivative: ', df)\n",
    "print('Analytical result:    ', 2 * x - 1)\n",
    "\n",
    "print(' ')\n",
    "\n",
    "print('The above two results are not equal because in the definition of numerical derivative,')\n",
    "print('delta should tends to zero, whereas we are taking delta = 0.01')\n",
    "\n",
    "print(' ')\n",
    "delta = [10**(-4), 10**(-8), 10**(-12), 10**(-14)]\n",
    "for i in delta:\n",
    "    df = (f(x + i) - f(x))/i\n",
    "    print(df)\n",
    "\n",
    "print(' ')\n",
    "print('The result degrades because when h is very small, f(x + h) - f(x) becomes very tiny,') \n",
    "print('and its representation is limited due to finite precision of numbers used by computers.')"
   ]
  },
  {
   "cell_type": "markdown",
   "id": "ebb2e1bb-74fa-4897-9d4d-8ba74bfe1ad2",
   "metadata": {},
   "source": [
    "### Simpson's Rule\n",
    "\n",
    "- Write a program to calculate an approximate value for the integral $\\int_{0}^{2} ( x^4 - 2x + 1)dx$ from Example 5.1 in the book, but using Simpson's rule with 10 slices instead of the trapezoid rule. You may be able to modify your code from the trapezoid rule to complete this task. Compare your result to the known correct value of 4.4. What is the fractional error on your calculation?\n",
    "\n",
    "- Copy your code and modify it to use one hundred slices, then one thousand. Note the improvement in the result and compare to the results from the trapezoid rule.\n",
    "\n",
    "(30 points)"
   ]
  },
  {
   "cell_type": "code",
   "execution_count": 3,
   "id": "d8370bf3-7d95-442e-8d4d-b3636a60e6e7",
   "metadata": {},
   "outputs": [
    {
     "name": "stdout",
     "output_type": "stream",
     "text": [
      "For n = 10, integral value = 4.40000004\n",
      "Percentage error = 0.0097\n",
      " \n",
      "For n = 100,  integral value = 4.40000004\n",
      "For n = 1000, integral value = 4.40000000\n"
     ]
    }
   ],
   "source": [
    "# code\n",
    "import numpy as np\n",
    "\n",
    "def simp13(f, a, b, n):\n",
    "    ''' Input: f    = function\n",
    "               a, b = lower and upper limit of integration\n",
    "               n    = number of slices\n",
    "        Output: I, integral value using Simpson-1/3 formula\n",
    "    '''\n",
    "    h = (b - a)/n\n",
    "    \n",
    "    s1 = 0.0\n",
    "    for i in range(1, n, 2):\n",
    "        x = a + i*h\n",
    "        s1 = s1 + f(x)\n",
    "        \n",
    "    s2 = 0.0\n",
    "    for i in range(2, n - 1, 2):\n",
    "        x = a + i*h\n",
    "        s2 = s2 + f(x)\n",
    "        \n",
    "    I = ( f(a) + 4*s1 + 2*s2 + f(b) ) * h/3\n",
    "    return I\n",
    "\n",
    "# define the function\n",
    "def f(x):\n",
    "    return x**4 - 2*x + 1\n",
    "\n",
    "a = 0 \n",
    "b = 2 \n",
    "\n",
    "I1 = simp13(f, a, b, 10)\n",
    "I2 = simp13(f, a, b, 100)\n",
    "I3 = simp13(f, a, b, 1000)\n",
    "\n",
    "print('For n = 10, integral value = %.8f' %(I2))\n",
    "\n",
    "true_value = 4.4\n",
    "obs_value  = I1\n",
    "\n",
    "print('Percentage error = %.4f' %(np.abs(obs_value - true_value)/true_value * 100))\n",
    "\n",
    "print(' ')\n",
    "print('For n = 100,  integral value = %.8f' %(I2))\n",
    "print('For n = 1000, integral value = %.8f' %(I3))"
   ]
  },
  {
   "cell_type": "markdown",
   "id": "4c080cd1-540e-4ab2-a0d6-3372d1899b4f",
   "metadata": {},
   "source": [
    "### An Integral With No Analytic Solution\n",
    "\n",
    "Consider the integral\n",
    "\n",
    "$$ E(x) = \\int_{0}^{x} \\exp{-t^2} dt$$\n",
    "\n",
    "- Write a program to calculate $E(x)$ for values of x from 0 to 3 in steps of 0.1. Choose for yourself what method you will use for performing the integral and a suitable number of slices.\n",
    "\n",
    "- When you are convinced your program is working, extend it further to make a graph of E(x) as a function of x.\n",
    "\n",
    "(30 points)"
   ]
  },
  {
   "cell_type": "code",
   "execution_count": 4,
   "id": "27aaf5cb-8c02-4c8a-affe-d7d67c969b59",
   "metadata": {},
   "outputs": [
    {
     "data": {
      "image/png": "[encoded data removed]",
      "text/plain": [
       "<Figure size 640x480 with 1 Axes>"
      ]
     },
     "metadata": {},
     "output_type": "display_data"
    }
   ],
   "source": [
    "import numpy as np\n",
    "import matplotlib.pyplot as plt\n",
    "\n",
    "a = 0\n",
    "x = np.arange(0, 3.1, 0.1)\n",
    "n = 100\n",
    "\n",
    "def f(t):\n",
    "    return np.exp(-t**2)\n",
    "\n",
    "# create a blank list to store the value of E(x) \n",
    "Evalue = []\n",
    "for i in range(len(x)):\n",
    "    # call the Simpson-1/3 function defined earlier\n",
    "    E = simp13(f, a, x[i], n)\n",
    "    Evalue.append(E)\n",
    "    # print(f\"{x[i+1]:.2f}, {E:.2f}\")\n",
    "\n",
    "plt.plot(x, Evalue, marker = 'o', linestyle = '-', color = 'b')\n",
    "plt.xlabel('x')\n",
    "plt.ylabel('E(x)')\n",
    "plt.title('E(x) vs x')\n",
    "plt.grid(True)\n",
    "plt.show()"
   ]
  },
  {
   "cell_type": "code",
   "execution_count": null,
   "id": "574bfe05-52c9-4001-b67e-97d6665e6599",
   "metadata": {},
   "outputs": [],
   "source": []
  }
 ],
 "metadata": {
  "kernelspec": {
   "display_name": "Python 3 (ipykernel)",
   "language": "python",
   "name": "python3"
  },
  "language_info": {
   "codemirror_mode": {
    "name": "ipython",
    "version": 3
   },
   "file_extension": ".py",
   "mimetype": "text/x-python",
   "name": "python",
   "nbconvert_exporter": "python",
   "pygments_lexer": "ipython3",
   "version": "3.12.4"
  }
 },
 "nbformat": 4,
 "nbformat_minor": 5
}
