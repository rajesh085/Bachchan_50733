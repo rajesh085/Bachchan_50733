{
 "cells": [
  {
   "cell_type": "markdown",
   "id": "f20dc5ca-3fd3-47c9-b1bb-a60ab7458066",
   "metadata": {
    "tags": []
   },
   "source": [
    "## Homework 1 \n",
    "### DUE: Thursday Jan 30\n",
    "\n",
    "**The semi-empirical mass formula**\n",
    "\n",
    "In nuclear physics, the semi-empirical mass formula is a formula for calculating the\n",
    "approximate nuclear binding energy $B$ of an atomic nucleus with atomic number $Z$\n",
    "and mass number $A$. The formula looks like this:\n",
    "    \n",
    "$$ B = a_1 A - a_2 A^{2/3} - a_3 \\frac{Z^2}{A^{1/3}} - a_4 \\frac{(A - 2Z)^2}{A} - \\frac{a_5}{A^{1/2}} $$\n",
    "\n",
    "where, in units of millions of electron volts (MeV), the constants are $a_1 =\n",
    "15.67$, $a_2 = 17.23$, $a_3 = 0.75$, $a_4 = 93.2$, and\n",
    "\n",
    "$$ a_5  \\; =  \\;\\; \\left\\{ \\begin{array} {r@{\\quad\\tt if \\quad}l} 0 & A \\;{\\tt is\n",
    "      \\; odd}, \\\\\n",
    "    12.0 & A \\;{\\tt and}\\; Z \\;{\\tt are \\;both \\;even}, \\\\ -12.0 & A \\;{\\tt is\n",
    "     \\;  even \\; and}\\;  Z \\;{\\tt is\n",
    "  \\;  odd.} \\end{array} \\right. $$\n",
    "\n",
    "Write a **function** that takes as its input the values of $A$ and $Z$, and\n",
    "prints out the binding energy $B$ for the corresponding atom \n",
    "\n",
    "Use your program to find\n",
    "the binding energy of an atom with $A = 58$ and $Z = 28$. (Hint: The\n",
    "correct answer is around 490 MeV.) \n",
    "\n",
    "(20 points)"
   ]
  },
  {
   "cell_type": "code",
   "execution_count": 1,
   "id": "699f9e33-090c-4e43-bb5f-5df501f2259b",
   "metadata": {},
   "outputs": [
    {
     "name": "stdout",
     "output_type": "stream",
     "text": [
      "Binding energy: 492.36 MeV\n"
     ]
    }
   ],
   "source": [
    "# code\n",
    "# function to calculate binding energy for given A and Z\n",
    "def binding_energy(A, Z):\n",
    "\n",
    "    # write the constants a1, a2, a3, a4, a5 in unit of MeV\n",
    "    a1 = 15.67\n",
    "    a2 = 17.23\n",
    "    a3 = 0.75\n",
    "    a4 = 93.2\n",
    "    \n",
    "    if A/2 == 0 and Z/2 == 0:\n",
    "        a5 = 12.0\n",
    "    elif A/2 == 0 and Z/2 == 1:\n",
    "        a5 = -12\n",
    "    else:\n",
    "        a5 = 0\n",
    "\n",
    "    # formula for binding energy\n",
    "    B  = a1 * A - a2 * A**(2/3) - a3 * Z**2/A**(1/3) - a4 * (A - 2*Z)**2/A - a5/A**(1/2)\n",
    "    \n",
    "    return B\n",
    "\n",
    "# call the function for A = 58 and Z = 28\n",
    "B = binding_energy(58, 28)\n",
    "print('Binding energy:', f\"{B:.2f}\", 'MeV')"
   ]
  },
  {
   "cell_type": "markdown",
   "id": "b89d6a58-5e47-4f74-8276-4adf94591226",
   "metadata": {},
   "source": [
    "Now create a new function that calculates the binding energy per nucleon, B/A. You should be able to write a very short function that calls your previous function to do the heavy lifting. Test your function with some famous cases, e.g., iron 56 and carbon 12.\n",
    "\n",
    "(10 points)"
   ]
  },
  {
   "cell_type": "code",
   "execution_count": 2,
   "id": "4444d94c-121b-4c1e-975f-5bdcde731f73",
   "metadata": {},
   "outputs": [
    {
     "name": "stdout",
     "output_type": "stream",
     "text": [
      "B/A for iron: 8.32 MeV\n",
      "B/A for carbon: 7.16 MeV\n"
     ]
    }
   ],
   "source": [
    "# code\n",
    "# function to calculate binding energy per nucleon\n",
    "def binding_energy_per_nucleon(A, Z):\n",
    "    # call the binding_energy function and divide by A to get BA (=B/A)\n",
    "    BA = binding_energy(A, Z)/A\n",
    "    return BA\n",
    "\n",
    "# call the function for Fe-56 (A = 56, Z = 26)\n",
    "BA = binding_energy_per_nucleon(56, 26)\n",
    "print('B/A for iron:', f\"{BA:.2f}\", 'MeV')\n",
    "\n",
    "# call the function for C-12 (A = 12, Z = 2)\n",
    "BA = binding_energy_per_nucleon(12, 6)\n",
    "print('B/A for carbon:', f\"{BA:.2f}\", 'MeV')"
   ]
  },
  {
   "cell_type": "markdown",
   "id": "ef5e6804-881f-411f-91de-f91ce88ff573",
   "metadata": {},
   "source": [
    "Create yet another function that takes a single argument, Z, and finds the value of A at which the binding energy per nucleon is largest. You are aided in this problem in the fact that A is discrete; you can simply check all reasonable values without worrying about mimizing a function or any such thing. You should be able to easily determine the minimum value for A. If you consult a table of nuclides, you'll see some elements have nuclides, with measured half lives, with A > 2Z, so in this exercise use A = 3Z as an upper limit. I encourage you to go verify this! At the time of writing wikipedia has a high resolution version https://upload.wikimedia.org/wikipedia/commons/9/92/NuclideMap.PNG\n",
    "\n",
    "(20 points)"
   ]
  },
  {
   "cell_type": "code",
   "execution_count": 3,
   "id": "7f8dd9b3-9045-4b24-b18e-9ed559b3eda7",
   "metadata": {},
   "outputs": [
    {
     "name": "stdout",
     "output_type": "stream",
     "text": [
      "Best value of A: 53, Maximum B/A: 8.50\n"
     ]
    }
   ],
   "source": [
    "# code\n",
    "def BA_max(Z):        \n",
    "    ''' BA_max -> function to calculate A at which B/A is largest\n",
    "        input  -> Z\n",
    "        output -> A, maximum B/A\n",
    "    ''' \n",
    "    max_BA = 0        # initialise maximum B/A\n",
    "    A_best = 0        # initialise best A\n",
    "    A_min  = 1        # minimum value of A\n",
    "\n",
    "    # loop from A_min to 3*Z\n",
    "    for A in range(A_min, 3*Z + 1):\n",
    "        BA = binding_energy_per_nucleon(A, Z)\n",
    "        if BA > max_BA:\n",
    "            max_BA = BA\n",
    "            A_best = A\n",
    "\n",
    "    return A_best, max_BA\n",
    "\n",
    "# test\n",
    "Z = 26\n",
    "A_best, max_BA = BA_max(Z)\n",
    "print(f\"Best value of A: {A_best}, Maximum B/A: {max_BA:.2f}\")\n"
   ]
  },
  {
   "cell_type": "markdown",
   "id": "4d69c742-5ccd-4b0e-bbed-27c478b0a259",
   "metadata": {},
   "source": [
    "Finally, create a plot of the highest binding energy per nucleon as a function of Z. Remember: science quality plots have labeled axes and a title.\n",
    "\n",
    "(10 points)"
   ]
  },
  {
   "cell_type": "code",
   "execution_count": 4,
   "id": "b189af33-5a0a-4efe-aa98-3ca064c63b3b",
   "metadata": {},
   "outputs": [
    {
     "data": {
      "image/png": "[encoded data removed]",
      "text/plain": [
       "<Figure size 640x480 with 1 Axes>"
      ]
     },
     "metadata": {},
     "output_type": "display_data"
    }
   ],
   "source": [
    "# code\n",
    "import numpy as np\n",
    "import matplotlib.pyplot as plt\n",
    "\n",
    "# Define the Z range\n",
    "Z = np.arange(12, 30, 1)\n",
    "\n",
    "# Calculate A_best and maximum B/A\n",
    "A_best, max_BA = zip( *[BA_max(Z_value) for Z_value in Z] )\n",
    "\n",
    "# Plot maximum B/A vs Z\n",
    "plt.plot(Z, max_BA, marker = 'o', linestyle = '-', color = 'k')\n",
    "plt.xlabel('Z')\n",
    "plt.ylabel('Max. B/A (MeV/nucleon)')\n",
    "plt.grid(True)\n",
    "plt.show()\n"
   ]
  },
  {
   "cell_type": "markdown",
   "id": "152c114f-b17a-4e97-add4-cf7cd2ec91e4",
   "metadata": {},
   "source": [
    "**Least Squares fitting**\n",
    "\n",
    "It's a common situation in physics that an experiment produces data\n",
    "that lies roughly on a straight line. The straight line can be represented in the familiar form $y=mx+c$ and a\n",
    "frequent question is what the appropriate values of the slope $m$ and\n",
    "intercept $c$ are that correspond to the measured data.  Since the data\n",
    "don't fall perfectly on a straight line, there is no perfect answer to such\n",
    "a question, but we can find the straight line that gives the best\n",
    "compromise fit to the data.  The standard technique for doing this is the\n",
    "*method of least squares*.\n",
    "\n",
    "Suppose we make some guess about the parameters $m$ and $c$ for the\n",
    "straight line.  We then calculate the vertical distances between the data\n",
    "points and that line, as represented by the short vertical lines in the\n",
    "figure, then we calculate the sum of the squares of those distances, which\n",
    "we denote $\\chi^2$.  If we have $N$ data points with\n",
    "coordinates $(x_i,y_i)$, then $\\chi^2$ is given by\n",
    "\n",
    "$$\\chi^2 = \\sum_{i=1}^N (mx_i+c-y_i)^2.$$\n",
    "\n",
    "The least-squares fit of the straight line to the data is the straight line\n",
    "that minimizes this total squared distance from data to line.  We find the\n",
    "minimum by differentiating with respect to both $m$ and $c$ and setting the\n",
    "derivatives to zero, which gives\n",
    "\n",
    "$$m \\sum_{i=1}^N x_i^2 + c \\sum_{i=1}^N x_i - \\sum_{i=1}^N x_iy_i = 0, $$\n",
    "$$m \\sum_{i=1}^N x_i + cN - \\sum_{i=1}^N y_i = 0.$$\n",
    "\n",
    "For convenience, let us define the following quantities:\n",
    "\n",
    "$$E_x = {1\\over N} \\sum_{i=1}^N x_i,\\qquad\n",
    "E_y = {1\\over N} \\sum_{i=1}^N y_i,\\qquad\n",
    "E_{xx} = {1\\over N} \\sum_{i=1}^N x_i^2,\\qquad\n",
    "E_{xy} = {1\\over N} \\sum_{i=1}^N x_iy_i $$\n",
    "\n",
    "in terms of which our equations can be written\n",
    "\n",
    "$$mE_{xx} + cE_x = E_{xy}, $$\n",
    "$$mE_x + c = E_y.$$\n",
    "\n",
    "Solving these equations simultaneously for $m$ and $c$ now gives\n",
    "\n",
    "$$m = {E_{xy}-E_x E_y\\over E_{xx} - E_x^2},\\qquad\n",
    "c = {E_{xx}E_y-E_x E_{xy}\\over E_{xx} - E_x^2}.$$\n",
    "\n",
    "These are the equations for the least-squares fit of a straight line to $N$\n",
    "data points.  They tell you the values of $m$ and $c$ for the line that\n",
    "best fits the given data.\n",
    "\n",
    "In this repo is a file called `millikan.txt`.  The file contains two columns of numbers, giving\n",
    "the $x$ and $y$ coordinates of a set of data points.  Write a program to\n",
    "read these data points and make a graph with one dot or circle for each\n",
    "point.\n",
    "\n",
    "(15 points)"
   ]
  },
  {
   "cell_type": "code",
   "execution_count": 5,
   "id": "818c885e-200b-417c-a4d8-d296cbde23ac",
   "metadata": {},
   "outputs": [
    {
     "data": {
      "image/png": "[encoded data removed]",
      "text/plain": [
       "<Figure size 640x480 with 1 Axes>"
      ]
     },
     "metadata": {},
     "output_type": "display_data"
    }
   ],
   "source": [
    "# code\n",
    "import numpy as np\n",
    "filename = 'millikan.txt'\n",
    "data = np.genfromtxt(filename, delimiter = ' ', autostrip = True)\n",
    "x    = data[:, 0]\n",
    "y    = data[:, 1]\n",
    "\n",
    "plt.scatter(x, y, marker = 'o', color = 'k')\n",
    "plt.xlabel('x')\n",
    "plt.ylabel('y')\n",
    "plt.grid(True)\n",
    "plt.show()\n"
   ]
  },
  {
   "cell_type": "markdown",
   "id": "0777da0c-01a4-4378-a9cb-a2f3244e201a",
   "metadata": {},
   "source": [
    "Calculate the quantities $E_x$, $E_y$, $E_{xx}$, and $E_{xy}$ defined above, and from them calculate and print out the slope $m$ and intercept $c$ of the best-fit line. Plot the line with the data.\n",
    "\n",
    "(20 points)"
   ]
  },
  {
   "cell_type": "code",
   "execution_count": 6,
   "id": "e8e80eb5-fa93-463f-a6d5-27a4598ec277",
   "metadata": {},
   "outputs": [
    {
     "name": "stdout",
     "output_type": "stream",
     "text": [
      "m =  4.09e-15\n",
      "c =  -1.73\n"
     ]
    },
    {
     "data": {
      "image/png": "[encoded data removed]",
      "text/plain": [
       "<Figure size 640x480 with 1 Axes>"
      ]
     },
     "metadata": {},
     "output_type": "display_data"
    }
   ],
   "source": [
    "# code\n",
    "\n",
    "# no. of data\n",
    "N   = np.size(x)\n",
    "\n",
    "# define Ex, Ey, Exx, Exy as mentioned in the text\n",
    "Ex  = np.sum(x)/N\n",
    "Ey  = np.sum(y)/N\n",
    "Exx = np.sum(x**2)/N\n",
    "Exy = np.sum(x*y)/N\n",
    "\n",
    "# calculate m and c\n",
    "D = Exx - Ex**2    # common denominator in formulas for m and c\n",
    "m = (Exy - Ex * Ey)/D\n",
    "c = (Exx * Ey - Ex * Exy)/D\n",
    "\n",
    "# data for best line fit\n",
    "yfit = m*x + c\n",
    "\n",
    "print('m = ', f\"{m:.2e}\")\n",
    "print('c = ', f\"{c:.2f}\")\n",
    "\n",
    "plt.scatter(x, y, marker = 'o', color = 'k')\n",
    "plt.plot(x, yfit, color = 'k')\n",
    "plt.xlabel('x')\n",
    "plt.ylabel('y')\n",
    "plt.grid(True)\n",
    "plt.show()"
   ]
  },
  {
   "cell_type": "markdown",
   "id": "c1a4fd58-6715-4551-8e7b-a36b351e5f8c",
   "metadata": {},
   "source": [
    "The data in the file `millikan.txt` are taken from a historic\n",
    "  experiment by Robert Millikan that measured the\n",
    "  *photoelectric effect*.  When light of an appropriate wavelength is\n",
    "  shone on the surface of a metal, the photons in the light can strike\n",
    "  conduction electrons in the metal and, sometimes, eject them from the\n",
    "  surface into the free space above.  The energy of an ejected electron is\n",
    "  equal to the energy of the photon that struck it minus a small\n",
    "  amount~$\\phi$ called the **work function** of the surface,\n",
    "  which represents the energy needed to remove an electron from the\n",
    "  surface.  The energy of a photon is $h\\nu$, where $h$ is Planck's\n",
    "  constant and $\\nu$ is the frequency of the light, and we can measure the\n",
    "  energy of an ejected electron by measuring the voltage $V$ that is just\n",
    "  sufficient to stop the electron moving.  Then the voltage, frequency, and\n",
    "  work function are related by the equation\n",
    "\n",
    "$$V = {h\\over e}\\nu - \\phi,$$\n",
    "\n",
    "where $e$ is the charge on the electron.  This equation was first given by\n",
    "Albert Einstein in 1905.\n",
    "\n",
    "The data in the file `millikan.txt` represent frequencies $\\nu$ in\n",
    "hertz (first column) and voltages $V$ in volts (second column) from\n",
    "photoelectric measurements of this kind.  Using the equation above and the\n",
    "program you wrote, and given that the charge on the electron is\n",
    "$1.602\\times10^{-19}\\,$C, calculate from Millikan's experimental data a\n",
    "value for Planck's constant.  Compare your value with the accepted value of\n",
    "the constant, which you can find in books or on-line.  You should get a\n",
    "result within a couple of percent of the accepted value.\n",
    "\n",
    "(5 points)\n",
    "\n",
    "This calculation is essentially the same as the one that Millikan himself\n",
    "used to determine of the value of Planck's constant, although, lacking a\n",
    "computer, he fitted his straight line to the data by eye.  In part for this\n",
    "work, Millikan was awarded the Nobel prize in physics in 1923."
   ]
  },
  {
   "cell_type": "markdown",
   "id": "be780fb8-369e-4579-bd77-bf9c2e9f076b",
   "metadata": {},
   "source": [
    "This cell is already set to markdown format. Use markdown format to express your answer."
   ]
  },
  {
   "cell_type": "code",
   "execution_count": 7,
   "id": "4145f186-69fb-499a-b80d-bca0b339327a",
   "metadata": {},
   "outputs": [
    {
     "name": "stdout",
     "output_type": "stream",
     "text": [
      "Planck's constant, h = 6.549e-34 Js\n"
     ]
    }
   ],
   "source": [
    "# electronic charge in coulomb\n",
    "e = 1.602E-19\n",
    "\n",
    "# We have fitted the line y = mx + c. Comparing with V = (h/e)*nu - phi, m = h/e.\n",
    "h = m * e\n",
    "\n",
    "print(\"Planck's constant, h =\", f\"{h:.3e}\", 'Js')"
   ]
  },
  {
   "cell_type": "code",
   "execution_count": 8,
   "id": "c6bec1b8-2d2a-4b95-8300-f39a4c798fa2",
   "metadata": {},
   "outputs": [
    {
     "name": "stdout",
     "output_type": "stream",
     "text": [
      "Error = 1.16 %\n"
     ]
    }
   ],
   "source": [
    "#This is comparable to the values often quoted in books: 6.626e-34 Js\n",
    "\n",
    "# error = |(experimental value - theoretical value)/(theoretical value)| * 100%\n",
    "percentage_error = np.abs( (6.549e-34 - 6.626e-34)/6.626e-34 ) * 100\n",
    "print('Error =', f\"{percentage_error:.2f}\", '%')"
   ]
  },
  {
   "cell_type": "code",
   "execution_count": null,
   "id": "447d83ec-2a15-464a-8730-2776667cb03e",
   "metadata": {},
   "outputs": [],
   "source": []
  }
 ],
 "metadata": {
  "kernelspec": {
   "display_name": "Python 3 (ipykernel)",
   "language": "python",
   "name": "python3"
  },
  "language_info": {
   "codemirror_mode": {
    "name": "ipython",
    "version": 3
   },
   "file_extension": ".py",
   "mimetype": "text/x-python",
   "name": "python",
   "nbconvert_exporter": "python",
   "pygments_lexer": "ipython3",
   "version": "3.12.4"
  }
 },
 "nbformat": 4,
 "nbformat_minor": 5
}
